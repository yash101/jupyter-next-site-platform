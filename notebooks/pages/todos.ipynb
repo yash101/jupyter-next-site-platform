{
 "cells": [
  {
   "cell_type": "code",
   "execution_count": 5,
   "id": "82db9920-c607-4ed9-8626-278493e04489",
   "metadata": {},
   "outputs": [],
   "source": [
    "title = 'TODOs to improve this blog platform'\n",
    "author = 'yash101'\n",
    "published = '2025-01-30T04:57:57.694Z'\n",
    "lastModified = '2025-01-30T04:57:57.694Z'\n",
    "slug = 'todos'"
   ]
  },
  {
   "cell_type": "markdown",
   "id": "4d29dc5c-7ac4-4100-a2c9-10db9b2bf9aa",
   "metadata": {},
   "source": [
    "TODOs on improving this blog."
   ]
  },
  {
   "cell_type": "markdown",
   "id": "5b4ec4f0-9db3-4757-aa39-52a78342cf73",
   "metadata": {},
   "source": [
    "## TODOs to improve this blog platform:\n",
    "\n",
    "* :white_check_mark: Add support for code blocks (inline markdown code)\n",
    "* :white_check_mark: Add emoji shorthands :joy:\n",
    "* :white_check_mark: Add support for MathJAX\n",
    "* :stopwatch: Add support for Jupyter code cells (REPL)\n",
    "    * :white_check_mark: Code is rendering\n",
    "    * :white_check_mark: Syntax highlighting uses `kernelspec` or `language_info` metadata from the notebook to determine the language\n",
    "    * :white_check_mark: stdout and stderr\n",
    "    * :x: stdout and stderr are separate for some reason instead of interleaved. This seems to be intended behavior with Jupyter notebooks ☹️\n",
    "    * :white_check_mark: Display output renderer\n",
    "    * :x: Error renderer\n",
    "* :x: Add some components that can be added via raw blocks\n",
    "* :x: Improve sorting support, currently sorted by publish date\n",
    "* :x: Add automatic rebuilds of notebooks on save (nextjs is already able to render updated notebooks with `next dev`.\n",
    "* :white_check_mark: Add hyperlinks to titles\n",
    "* :x: Sync hyperlinks / headings with the navbar\n",
    "* :x: Pagination of the homepage and blogs page\n",
    "* :x: Multi-page pages and blogs\n",
    "* :x: Better tooling for handling metadata. Plugin for Jupyter or Jupyterlab?\n",
    "* :x: GitHub actions workflow\n",
    "* :white_check_mark: Cloudflare pages support\n",
    "    * Already deployed to Cloudflare Pages\n",
    "    * Deploy as Next JS (static export)\n",
    "    * Need to use node 22.13.0+. CF pages defaults to Node 18\n",
    "    * Add environment variable `NODE_VERSION` as `22.13.0` or latest when setting up your project.\n",
    "* :x: Dark mode (theoretically should be supported, but it doesn't work)\n",
    "* :x: Use CSS/Tailwind variables instead of hardcoded values / colors everywhere"
   ]
  }
 ],
 "metadata": {
  "kernelspec": {
   "display_name": "Python 3 (ipykernel)",
   "language": "python",
   "name": "python3"
  },
  "language_info": {
   "codemirror_mode": {
    "name": "ipython",
    "version": 3
   },
   "file_extension": ".py",
   "mimetype": "text/x-python",
   "name": "python",
   "nbconvert_exporter": "python",
   "pygments_lexer": "ipython3",
   "version": "3.13.1"
  }
 },
 "nbformat": 4,
 "nbformat_minor": 5
}
