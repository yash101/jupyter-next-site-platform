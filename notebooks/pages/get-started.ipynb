{
 "cells": [
  {
   "cell_type": "code",
   "execution_count": 2,
   "id": "398b37dd-4067-4764-80a1-c5efc41f2965",
   "metadata": {},
   "outputs": [],
   "source": [
    "title = 'Get Started!'\n",
    "author = 'yash101'\n",
    "published = '2025-01-30T04:57:57.694Z'\n",
    "modified = '2025-01-30T04:57:57.694Z'"
   ]
  },
  {
   "cell_type": "markdown",
   "id": "c5962e2d-9e7a-4579-a275-f5805098f10d",
   "metadata": {},
   "source": [
    "You're probably just like me - you wanted a blog with a ton of bells and whistles. But then you started thinking to yourself, how should I build it?\n",
    "\n",
    "The problem with all blog and website platforms (this one included), is that tradeoffs exist with each solution.\n",
    "\n",
    "**Goals of this blog and site platform**:\n",
    "\n",
    "* Easy to use\n",
    "* Rich editing interface for articles and pages\n",
    "* Low runtime cost\n",
    "* Secure\n",
    "* Low maintenance\n",
    "* Great for different types of writing - creative and technical\n",
    "* And more...\n",
    "\n",
    "Continue reading this article to get started!"
   ]
  },
  {
   "cell_type": "markdown",
   "id": "d64385cc-6360-4902-829f-498d86509046",
   "metadata": {},
   "source": []
  }
 ],
 "metadata": {
  "kernelspec": {
   "display_name": "Python 3 (ipykernel)",
   "language": "python",
   "name": "python3"
  },
  "language_info": {
   "codemirror_mode": {
    "name": "ipython",
    "version": 3
   },
   "file_extension": ".py",
   "mimetype": "text/x-python",
   "name": "python",
   "nbconvert_exporter": "python",
   "pygments_lexer": "ipython3",
   "version": "3.13.1"
  }
 },
 "nbformat": 4,
 "nbformat_minor": 5
}
