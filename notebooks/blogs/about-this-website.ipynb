{
 "cells": [
  {
   "cell_type": "code",
   "execution_count": 1,
   "id": "ad049f17-b42e-4a21-9984-11d5937025c0",
   "metadata": {},
   "outputs": [],
   "source": [
    "author = 'Devyash Lodha'\n",
    "title = 'Building this Site'\n",
    "lastModified = '2025-01-29T20:56:17.277Z'\n",
    "published = '2025-01-29T20:56:17.277Z'"
   ]
  },
  {
   "cell_type": "markdown",
   "id": "13f7363a-ac93-4b05-a98c-1ed07a1bf06d",
   "metadata": {},
   "source": [
    "# About this Website\n",
    "\n",
    "Want to create a statically-generated react-based website or blog with a friendly editor support, and the perfect feature set for writitng about software or mathematics?\n",
    "\n",
    "Use this starter to get up and running quickly!"
   ]
  },
  {
   "cell_type": "markdown",
   "id": "49b8896c-75ff-4a2c-8a21-143d514c3695",
   "metadata": {},
   "source": [
    "## "
   ]
  }
 ],
 "metadata": {
  "kernelspec": {
   "display_name": "Python 3 (ipykernel)",
   "language": "python",
   "name": "python3"
  },
  "language_info": {
   "codemirror_mode": {
    "name": "ipython",
    "version": 3
   },
   "file_extension": ".py",
   "mimetype": "text/x-python",
   "name": "python",
   "nbconvert_exporter": "python",
   "pygments_lexer": "ipython3",
   "version": "3.13.1"
  }
 },
 "nbformat": 4,
 "nbformat_minor": 5
}
