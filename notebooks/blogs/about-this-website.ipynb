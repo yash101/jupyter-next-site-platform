{
 "cells": [
  {
   "cell_type": "code",
   "execution_count": 1,
   "id": "ad049f17-b42e-4a21-9984-11d5937025c0",
   "metadata": {},
   "outputs": [],
   "source": [
    "author = 'Devyash Lodha'\n",
    "title = 'Building this Site'\n",
    "lastModified = '2025-01-29T20:56:17.277Z'\n",
    "published = '2025-01-29T20:56:17.277Z'"
   ]
  },
  {
   "cell_type": "markdown",
   "id": "13f7363a-ac93-4b05-a98c-1ed07a1bf06d",
   "metadata": {},
   "source": [
    "# About this Website\n",
    "\n",
    "How can you create a statically-generated react-based website with a friendly editor? Read this article to find out how I managed to do it!\n",
    "\n",
    "And guess what! This concept was used to build the website you are reading 😀"
   ]
  },
  {
   "cell_type": "markdown",
   "id": "68015cd3-e6b3-447f-9c6e-cde9915e43de",
   "metadata": {},
   "source": [
    "# Hello, world!"
   ]
  },
  {
   "cell_type": "code",
   "execution_count": null,
   "id": "49b8896c-75ff-4a2c-8a21-143d514c3695",
   "metadata": {},
   "outputs": [],
   "source": []
  }
 ],
 "metadata": {
  "kernelspec": {
   "display_name": "Python 3 (ipykernel)",
   "language": "python",
   "name": "python3"
  },
  "language_info": {
   "codemirror_mode": {
    "name": "ipython",
    "version": 3
   },
   "file_extension": ".py",
   "mimetype": "text/x-python",
   "name": "python",
   "nbconvert_exporter": "python",
   "pygments_lexer": "ipython3",
   "version": "3.13.1"
  }
 },
 "nbformat": 4,
 "nbformat_minor": 5
}
